{
 "cells": [
  {
   "cell_type": "markdown",
   "id": "2c2a34d3",
   "metadata": {},
   "source": [
    "# Test Talan"
   ]
  },
  {
   "cell_type": "code",
   "execution_count": 1,
   "id": "973efb42",
   "metadata": {},
   "outputs": [],
   "source": [
    "import numpy as np\n",
    "import pandas as pd"
   ]
  },
  {
   "cell_type": "code",
   "execution_count": 5,
   "id": "cd8de30c",
   "metadata": {},
   "outputs": [],
   "source": [
    "inputs = [[1,0,0,1],\n",
    "          [1,1,1,1],\n",
    "          [0,1,1,0],\n",
    "          [1,1,1,1]]\n",
    "\n",
    "def find_biggest_square(inputs):\n",
    "    final_size=0\n",
    "    N = len(inputs)\n",
    "    i=0\n",
    "    j=0\n",
    "    temp_i = 0 \n",
    "    temp_j = 0\n",
    "    while temp_i < N:\n",
    "        pass"
   ]
  },
  {
   "cell_type": "markdown",
   "id": "69afd3b3",
   "metadata": {},
   "source": [
    "# Question 1"
   ]
  },
  {
   "cell_type": "code",
   "execution_count": 17,
   "id": "c7fcc609",
   "metadata": {},
   "outputs": [],
   "source": [
    "def filter_words(letters, words):\n",
    "    lettter_list = [x for x in letters]\n",
    "    res = []\n",
    "    for word in words:\n",
    "        for letter in lettter_list:\n",
    "            if letter in word:\n",
    "                res.append(word)\n",
    "                break\n",
    "    return res"
   ]
  },
  {
   "cell_type": "code",
   "execution_count": 19,
   "id": "d776d3c0",
   "metadata": {},
   "outputs": [
    {
     "data": {
      "text/plain": [
       "['the', 'a']"
      ]
     },
     "execution_count": 19,
     "metadata": {},
     "output_type": "execute_result"
    }
   ],
   "source": [
    "filter_words('ae', ['the', 'doc', 'a'])"
   ]
  },
  {
   "cell_type": "code",
   "execution_count": 7,
   "id": "90213b72",
   "metadata": {},
   "outputs": [],
   "source": [
    "a='aaa'"
   ]
  },
  {
   "cell_type": "markdown",
   "id": "6f0c304e",
   "metadata": {},
   "source": [
    "# Question 2"
   ]
  },
  {
   "cell_type": "code",
   "execution_count": 26,
   "id": "5385f91b",
   "metadata": {},
   "outputs": [],
   "source": [
    "def closest_to_zero(array):\n",
    "    if array is None or len(array)==0:\n",
    "        return 0\n",
    "    else:\n",
    "        res = array[0]\n",
    "        lowest_dist = abs(array[0])\n",
    "        for x in array:\n",
    "            new_dist=abs(x)\n",
    "            if new_dist<lowest_dist or (new_dist==lowest_dist and x>=0):\n",
    "                res=x\n",
    "                lowest_dist = abs(x)\n",
    "        return res"
   ]
  },
  {
   "cell_type": "code",
   "execution_count": 27,
   "id": "5f285445",
   "metadata": {},
   "outputs": [
    {
     "data": {
      "text/plain": [
       "5"
      ]
     },
     "execution_count": 27,
     "metadata": {},
     "output_type": "execute_result"
    }
   ],
   "source": [
    "closest_to_zero([-5,5,10,24,-34])"
   ]
  },
  {
   "cell_type": "markdown",
   "id": "7f43bde0",
   "metadata": {},
   "source": [
    "# Question 3"
   ]
  },
  {
   "cell_type": "code",
   "execution_count": 31,
   "id": "13f9fce7",
   "metadata": {},
   "outputs": [],
   "source": [
    "def binomial_coefficient(n, k=2):\n",
    "    if k < 0 or k > n:\n",
    "        return 0\n",
    "    if k > n - k:\n",
    "        k = n - k\n",
    "    result = 1\n",
    "    for i in range(k):\n",
    "        result *= n - i\n",
    "        result //= i + 1\n",
    "    return result"
   ]
  },
  {
   "cell_type": "code",
   "execution_count": 51,
   "id": "1333a396",
   "metadata": {},
   "outputs": [
    {
     "data": {
      "text/plain": [
       "6"
      ]
     },
     "execution_count": 51,
     "metadata": {},
     "output_type": "execute_result"
    }
   ],
   "source": [
    "binomial_coefficient(4)"
   ]
  },
  {
   "cell_type": "code",
   "execution_count": 52,
   "id": "4611e119",
   "metadata": {},
   "outputs": [],
   "source": [
    "def func_2(n):\n",
    "    return int(n*(n-1)/2)"
   ]
  },
  {
   "cell_type": "code",
   "execution_count": 53,
   "id": "d1615299",
   "metadata": {},
   "outputs": [
    {
     "data": {
      "text/plain": [
       "6"
      ]
     },
     "execution_count": 53,
     "metadata": {},
     "output_type": "execute_result"
    }
   ],
   "source": [
    "func_2(4)"
   ]
  }
 ],
 "metadata": {
  "kernelspec": {
   "display_name": "Python 3 (ipykernel)",
   "language": "python",
   "name": "python3"
  },
  "language_info": {
   "codemirror_mode": {
    "name": "ipython",
    "version": 3
   },
   "file_extension": ".py",
   "mimetype": "text/x-python",
   "name": "python",
   "nbconvert_exporter": "python",
   "pygments_lexer": "ipython3",
   "version": "3.9.7"
  }
 },
 "nbformat": 4,
 "nbformat_minor": 5
}
